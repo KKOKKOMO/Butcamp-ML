{
  "nbformat": 4,
  "nbformat_minor": 0,
  "metadata": {
    "colab": {
      "provenance": [],
      "authorship_tag": "ABX9TyNZSxGFQX2tHOVa/L0eaqFo",
      "include_colab_link": true
    },
    "kernelspec": {
      "name": "python3",
      "display_name": "Python 3"
    },
    "language_info": {
      "name": "python"
    }
  },
  "cells": [
    {
      "cell_type": "markdown",
      "metadata": {
        "id": "view-in-github",
        "colab_type": "text"
      },
      "source": [
        "<a href=\"https://colab.research.google.com/github/KKOKKOMO/Butcamp-ML/blob/main/less_2.ipynb\" target=\"_parent\"><img src=\"https://colab.research.google.com/assets/colab-badge.svg\" alt=\"Open In Colab\"/></a>"
      ]
    },
    {
      "cell_type": "code",
      "execution_count": null,
      "metadata": {
        "id": "XsVXl6VXPfvK"
      },
      "outputs": [],
      "source": [
        "import numpy as np\n",
        "a = np.array([[-1, 2, 4], [2, 0, -1]])\n",
        "b = np.array([[5, 2, 3], [4, 6, 2]])"
      ]
    },
    {
      "cell_type": "code",
      "source": [
        "a, type(a)"
      ],
      "metadata": {
        "colab": {
          "base_uri": "https://localhost:8080/"
        },
        "id": "_CPONbtsP8QZ",
        "outputId": "1a1f8431-1df7-44da-f2f4-d281dc290c1b"
      },
      "execution_count": null,
      "outputs": [
        {
          "output_type": "execute_result",
          "data": {
            "text/plain": [
              "(array([[-1,  2,  4],\n",
              "        [ 2,  0, -1]]), numpy.ndarray)"
            ]
          },
          "metadata": {},
          "execution_count": 14
        }
      ]
    },
    {
      "cell_type": "code",
      "source": [
        "b, type(b)"
      ],
      "metadata": {
        "colab": {
          "base_uri": "https://localhost:8080/"
        },
        "id": "ZEf6GUnXQSbK",
        "outputId": "7fe20071-b2cd-4414-807c-df390e5fc07b"
      },
      "execution_count": null,
      "outputs": [
        {
          "output_type": "execute_result",
          "data": {
            "text/plain": [
              "(array([[2, 1],\n",
              "        [1, 2]]), numpy.ndarray)"
            ]
          },
          "metadata": {},
          "execution_count": 11
        }
      ]
    },
    {
      "cell_type": "code",
      "source": [
        "a + b"
      ],
      "metadata": {
        "colab": {
          "base_uri": "https://localhost:8080/"
        },
        "id": "Qg9at14cQ5GI",
        "outputId": "0840e658-4f9c-4f48-f976-4dc3b3c78b2b"
      },
      "execution_count": null,
      "outputs": [
        {
          "output_type": "execute_result",
          "data": {
            "text/plain": [
              "array([[4, 4, 7],\n",
              "       [6, 6, 1]])"
            ]
          },
          "metadata": {},
          "execution_count": 17
        }
      ]
    },
    {
      "cell_type": "code",
      "source": [
        "a - b"
      ],
      "metadata": {
        "colab": {
          "base_uri": "https://localhost:8080/"
        },
        "id": "nyTZmeh1SBtx",
        "outputId": "9e41eb6f-0892-4bb1-a18a-f68183178c42"
      },
      "execution_count": null,
      "outputs": [
        {
          "output_type": "execute_result",
          "data": {
            "text/plain": [
              "array([[-6,  0,  1],\n",
              "       [-2, -6, -3]])"
            ]
          },
          "metadata": {},
          "execution_count": 18
        }
      ]
    },
    {
      "cell_type": "code",
      "source": [
        "a = np.array([[1, 2], [2, -1], [3, 0]])\n",
        "b = np.array([[-1, 1], [1, 2], [0, 0]])"
      ],
      "metadata": {
        "id": "qPc5e4TDSGY-"
      },
      "execution_count": null,
      "outputs": []
    },
    {
      "cell_type": "code",
      "source": [
        "c =  a - b*3"
      ],
      "metadata": {
        "id": "cbdULFNeSeA8"
      },
      "execution_count": null,
      "outputs": []
    },
    {
      "cell_type": "code",
      "source": [
        "c"
      ],
      "metadata": {
        "colab": {
          "base_uri": "https://localhost:8080/"
        },
        "id": "Cm49H1eRTWqa",
        "outputId": "30da7fd9-4a6b-43d6-954f-c51ee4511537"
      },
      "execution_count": null,
      "outputs": [
        {
          "output_type": "execute_result",
          "data": {
            "text/plain": [
              "array([[ 4, -1],\n",
              "       [-1, -7],\n",
              "       [ 3,  0]])"
            ]
          },
          "metadata": {},
          "execution_count": 29
        }
      ]
    },
    {
      "cell_type": "code",
      "source": [
        "a = np.array([[1, -1], [2, 0], [3, 0]])\n",
        "b = np.array([[1, 1], [2, 0]])\n",
        "c = a@b\n",
        "c"
      ],
      "metadata": {
        "colab": {
          "base_uri": "https://localhost:8080/"
        },
        "id": "6pR-RHk4TsQ6",
        "outputId": "8004f36d-e8f8-41ad-9241-23b8e7fadf7f"
      },
      "execution_count": null,
      "outputs": [
        {
          "output_type": "execute_result",
          "data": {
            "text/plain": [
              "array([[-1,  1],\n",
              "       [ 2,  2],\n",
              "       [ 3,  3]])"
            ]
          },
          "metadata": {},
          "execution_count": 30
        }
      ]
    },
    {
      "cell_type": "code",
      "source": [
        "a = np.array([[6, -1, 4], [2, 1, 10], [8, 0, 2]])\n",
        "np.linalg.det(a)"
      ],
      "metadata": {
        "colab": {
          "base_uri": "https://localhost:8080/"
        },
        "id": "qTYMxahQUKj7",
        "outputId": "6bbb5cec-e1b7-420b-a744-a7aeac7ad7b1"
      },
      "execution_count": null,
      "outputs": [
        {
          "output_type": "execute_result",
          "data": {
            "text/plain": [
              "-95.99999999999999"
            ]
          },
          "metadata": {},
          "execution_count": 31
        }
      ]
    },
    {
      "cell_type": "code",
      "source": [
        "a = np.array([[3, 3, -1], [4, 1, 3], [1, -2, -2]])\n",
        "a_inv = np.linalg.inv(a)\n",
        "a_inv_inv = np.linalg.inv(a_inv)\n",
        "if a_inv_inv.all() == a.all():\n",
        "  print(f'TRUE\\n {a_inv}\\n{a_inv_inv}\\n{a}')"
      ],
      "metadata": {
        "colab": {
          "base_uri": "https://localhost:8080/"
        },
        "id": "DdaSIAfqUKrM",
        "outputId": "f0541709-749f-4d3b-a0f4-63a34f11f77e"
      },
      "execution_count": null,
      "outputs": [
        {
          "output_type": "stream",
          "name": "stdout",
          "text": [
            "TRUE\n",
            " [[ 0.07407407  0.14814815  0.18518519]\n",
            " [ 0.2037037  -0.09259259 -0.24074074]\n",
            " [-0.16666667  0.16666667 -0.16666667]]\n",
            "[[ 3.  3. -1.]\n",
            " [ 4.  1.  3.]\n",
            " [ 1. -2. -2.]]\n",
            "[[ 3  3 -1]\n",
            " [ 4  1  3]\n",
            " [ 1 -2 -2]]\n"
          ]
        }
      ]
    }
  ]
}